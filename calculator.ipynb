{
  "nbformat": 4,
  "nbformat_minor": 0,
  "metadata": {
    "colab": {
      "provenance": [],
      "authorship_tag": "ABX9TyMIZRPeF7TRSXFmO4Ulcvas",
      "include_colab_link": true
    },
    "kernelspec": {
      "name": "python3",
      "display_name": "Python 3"
    },
    "language_info": {
      "name": "python"
    }
  },
  "cells": [
    {
      "cell_type": "markdown",
      "metadata": {
        "id": "view-in-github",
        "colab_type": "text"
      },
      "source": [
        "<a href=\"https://colab.research.google.com/github/Anish1302D/SY-Computer-Science-DS/blob/main/calculator.ipynb\" target=\"_parent\"><img src=\"https://colab.research.google.com/assets/colab-badge.svg\" alt=\"Open In Colab\"/></a>"
      ]
    },
    {
      "cell_type": "code",
      "execution_count": null,
      "metadata": {
        "id": "vJT2492rdD8f"
      },
      "outputs": [],
      "source": []
    },
    {
      "cell_type": "code",
      "source": [
        "print(\"Select operation:\")\n",
        "print(\"1. Add\")\n",
        "print(\"2. Subtract\")\n",
        "print(\"3. Multiply\")\n",
        "print(\"4. Divide\")"
      ],
      "metadata": {
        "colab": {
          "base_uri": "https://localhost:8080/"
        },
        "id": "wtJa-izgsHVc",
        "outputId": "3ecdee0a-d12b-465c-b0af-7ff9c24062c2"
      },
      "execution_count": null,
      "outputs": [
        {
          "output_type": "stream",
          "name": "stdout",
          "text": [
            "Select operation:\n",
            "1. Add\n",
            "2. Subtract\n",
            "3. Multiply\n",
            "4. Divide\n"
          ]
        }
      ]
    },
    {
      "cell_type": "markdown",
      "source": [
        "Options"
      ],
      "metadata": {
        "id": "7PfGRA3isKrR"
      }
    },
    {
      "cell_type": "code",
      "source": [
        "choice = int(input(\"Enter choice: \"))"
      ],
      "metadata": {
        "colab": {
          "base_uri": "https://localhost:8080/"
        },
        "id": "KpvWEtz3sMtc",
        "outputId": "376c8734-b6f9-421b-ca66-3b63cb70f160"
      },
      "execution_count": null,
      "outputs": [
        {
          "name": "stdout",
          "output_type": "stream",
          "text": [
            "Enter choice: 3\n"
          ]
        }
      ]
    },
    {
      "cell_type": "markdown",
      "source": [
        "Selecting operation"
      ],
      "metadata": {
        "id": "uknK0fxWsQzs"
      }
    },
    {
      "cell_type": "code",
      "source": [
        "match choice:\n",
        "    case 1:\n",
        "        num1 = float(input(\"Enter first number: \"))\n",
        "        num2 = float(input(\"Enter second number: \"))\n",
        "        print(\"Result: \", num1 + num2)\n",
        "\n",
        "    case 2:\n",
        "        num1 = float(input(\"Enter first number: \"))\n",
        "        num2 = float(input(\"Enter second number: \"))\n",
        "        print(\"Result: \", num1 - num2)\n",
        "\n",
        "    case 3:\n",
        "        num1 = float(input(\"Enter first number: \"))\n",
        "        num2 = float(input(\"Enter second number: \"))\n",
        "        print(\"Result: \", num1 * num2)\n",
        "\n",
        "    case 4:\n",
        "        num1 = float(input(\"Enter first number: \"))\n",
        "        num2 = float(input(\"Enter second number: \"))\n",
        "\n",
        "        if num2 == 0:\n",
        "            print(\"Error! Cannot divide by zero.\")\n",
        "        else:\n",
        "            print(\"Result: \", num1 / num2)\n",
        "\n",
        "    case _:\n",
        "        print(\"Invalid choice!\")"
      ],
      "metadata": {
        "colab": {
          "base_uri": "https://localhost:8080/"
        },
        "id": "oRab89QJsWM-",
        "outputId": "f9d4cc93-4902-4760-ad97-a4f3f8781cc6"
      },
      "execution_count": null,
      "outputs": [
        {
          "output_type": "stream",
          "name": "stdout",
          "text": [
            "Enter first number: 3\n",
            "Enter second number: 2\n",
            "Result:  6.0\n"
          ]
        }
      ]
    },
    {
      "cell_type": "markdown",
      "source": [
        "Doing operations as prompted by the user"
      ],
      "metadata": {
        "id": "jZnTRDyisfVz"
      }
    }
  ]
}